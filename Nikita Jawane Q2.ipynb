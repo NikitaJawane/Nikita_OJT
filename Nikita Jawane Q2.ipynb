{
 "cells": [
  {
   "cell_type": "code",
   "execution_count": 1,
   "id": "c21f9b18-adec-4a6d-b0de-a81caa28dbd9",
   "metadata": {},
   "outputs": [],
   "source": [
    "#Q2 Row Echelon Form:\n",
    "\n",
    "import numpy as np\n",
    "import sympy as sp"
   ]
  },
  {
   "cell_type": "code",
   "execution_count": 2,
   "id": "5582bbfe-0d43-4ea3-b547-a592cb5e7e64",
   "metadata": {},
   "outputs": [
    {
     "data": {
      "text/plain": [
       "array([[1, 6, 6, 9, 0],\n",
       "       [6, 4, 7, 4, 7],\n",
       "       [1, 1, 9, 8, 2],\n",
       "       [3, 6, 6, 9, 9],\n",
       "       [1, 5, 1, 0, 5]])"
      ]
     },
     "execution_count": 2,
     "metadata": {},
     "output_type": "execute_result"
    }
   ],
   "source": [
    "\n",
    "np.random.seed(17)\n",
    "A=np.random.randint(0,10,(5,5))\n",
    "A"
   ]
  },
  {
   "cell_type": "code",
   "execution_count": 10,
   "id": "ee33527e-6ceb-4833-acad-338d4425869f",
   "metadata": {},
   "outputs": [
    {
     "data": {
      "text/latex": [
       "$\\displaystyle \\left[\\begin{matrix}1 & 6 & 6 & 9 & 0\\\\0 & 1 & 0 & 1 & 0\\\\0 & 0 & 1 & 1 & 0\\\\0 & 0 & 0 & 1 & 1\\\\0 & 0 & 0 & -3 & 5\\end{matrix}\\right]$"
      ],
      "text/plain": [
       "Matrix([\n",
       "[1, 6, 6,  9, 0],\n",
       "[0, 1, 0,  1, 0],\n",
       "[0, 0, 1,  1, 0],\n",
       "[0, 0, 0,  1, 1],\n",
       "[0, 0, 0, -3, 5]])"
      ]
     },
     "execution_count": 10,
     "metadata": {},
     "output_type": "execute_result"
    }
   ],
   "source": [
    "A=sp.Matrix(A)\n",
    "A"
   ]
  },
  {
   "cell_type": "code",
   "execution_count": 3,
   "id": "bbee1a77-18f7-4559-ba39-a71c82e3b192",
   "metadata": {},
   "outputs": [
    {
     "data": {
      "text/plain": [
       "array([[  1,   6,   6,   9,   0],\n",
       "       [  0, -32, -29, -50,   7],\n",
       "       [  0,  -5,   3,  -1,   2],\n",
       "       [  0, -12, -12, -18,   9],\n",
       "       [  0,  -1,  -5,  -9,   5]])"
      ]
     },
     "execution_count": 3,
     "metadata": {},
     "output_type": "execute_result"
    }
   ],
   "source": [
    "A[1]=A[1]-6*A[0]\n",
    "A[2]=A[2]-A[0]\n",
    "A[3]=A[3]-3*A[0]\n",
    "A[4]=A[4]-A[0]\n",
    "A"
   ]
  },
  {
   "cell_type": "code",
   "execution_count": 4,
   "id": "f57c52f5-0e64-4ff8-9527-30951774c4d6",
   "metadata": {},
   "outputs": [
    {
     "data": {
      "text/plain": [
       "array([[  1,   6,   6,   9,   0],\n",
       "       [  0,   1,   0,   1,   0],\n",
       "       [  0,  -5,   3,  -1,   2],\n",
       "       [  0, -12, -12, -18,   9],\n",
       "       [  0,  -1,  -5,  -9,   5]])"
      ]
     },
     "execution_count": 4,
     "metadata": {},
     "output_type": "execute_result"
    }
   ],
   "source": [
    "A[1]=A[1]/-32\n",
    "A"
   ]
  },
  {
   "cell_type": "code",
   "execution_count": 5,
   "id": "63d4607b-bfc0-440c-8612-01ff724143e5",
   "metadata": {},
   "outputs": [
    {
     "data": {
      "text/plain": [
       "array([[  1,   6,   6,   9,   0],\n",
       "       [  0,   1,   0,   1,   0],\n",
       "       [  0,   0,   3,   4,   2],\n",
       "       [  0,   0, -12,  -6,   9],\n",
       "       [  0,   0,  -5,  -8,   5]])"
      ]
     },
     "execution_count": 5,
     "metadata": {},
     "output_type": "execute_result"
    }
   ],
   "source": [
    "A[2]=A[2]+A[1]*5\n",
    "A[3]=A[3]+12*A[1]\n",
    "A[4]=A[4]+A[1]\n",
    "A"
   ]
  },
  {
   "cell_type": "code",
   "execution_count": 6,
   "id": "924efc48-b927-477f-9403-3c4a67b2330b",
   "metadata": {},
   "outputs": [
    {
     "data": {
      "text/plain": [
       "array([[  1,   6,   6,   9,   0],\n",
       "       [  0,   1,   0,   1,   0],\n",
       "       [  0,   0,   1,   1,   0],\n",
       "       [  0,   0, -12,  -6,   9],\n",
       "       [  0,   0,  -5,  -8,   5]])"
      ]
     },
     "execution_count": 6,
     "metadata": {},
     "output_type": "execute_result"
    }
   ],
   "source": [
    "A[2]=A[2]/3\n",
    "A"
   ]
  },
  {
   "cell_type": "code",
   "execution_count": 7,
   "id": "67c80857-1dfd-4b48-8ba8-1abdefac24e8",
   "metadata": {},
   "outputs": [
    {
     "data": {
      "text/plain": [
       "array([[ 1,  6,  6,  9,  0],\n",
       "       [ 0,  1,  0,  1,  0],\n",
       "       [ 0,  0,  1,  1,  0],\n",
       "       [ 0,  0,  0,  6,  9],\n",
       "       [ 0,  0,  0, -3,  5]])"
      ]
     },
     "execution_count": 7,
     "metadata": {},
     "output_type": "execute_result"
    }
   ],
   "source": [
    "A[3]=A[3]+12*A[2]\n",
    "A[4]=A[4]+5*A[2]\n",
    "A"
   ]
  },
  {
   "cell_type": "code",
   "execution_count": 8,
   "id": "3e699314-2a76-48a9-8c44-56bce1035439",
   "metadata": {},
   "outputs": [
    {
     "data": {
      "text/plain": [
       "array([[ 1,  6,  6,  9,  0],\n",
       "       [ 0,  1,  0,  1,  0],\n",
       "       [ 0,  0,  1,  1,  0],\n",
       "       [ 0,  0,  0,  1,  1],\n",
       "       [ 0,  0,  0, -3,  5]])"
      ]
     },
     "execution_count": 8,
     "metadata": {},
     "output_type": "execute_result"
    }
   ],
   "source": [
    "A[3]=A[3]/6\n",
    "A"
   ]
  },
  {
   "cell_type": "code",
   "execution_count": null,
   "id": "3bdcc315-61d8-452e-9fef-577e496f3d50",
   "metadata": {},
   "outputs": [],
   "source": []
  },
  {
   "cell_type": "code",
   "execution_count": null,
   "id": "c3c38363-626b-4828-9ec2-177542e23445",
   "metadata": {},
   "outputs": [],
   "source": []
  },
  {
   "cell_type": "code",
   "execution_count": null,
   "id": "d4370704-9b70-432a-8628-b885778993f0",
   "metadata": {},
   "outputs": [],
   "source": []
  },
  {
   "cell_type": "code",
   "execution_count": null,
   "id": "bd283cec-c474-4eca-82f1-afabeba89f3b",
   "metadata": {},
   "outputs": [],
   "source": []
  }
 ],
 "metadata": {
  "kernelspec": {
   "display_name": "Python 3 (ipykernel)",
   "language": "python",
   "name": "python3"
  },
  "language_info": {
   "codemirror_mode": {
    "name": "ipython",
    "version": 3
   },
   "file_extension": ".py",
   "mimetype": "text/x-python",
   "name": "python",
   "nbconvert_exporter": "python",
   "pygments_lexer": "ipython3",
   "version": "3.11.7"
  }
 },
 "nbformat": 4,
 "nbformat_minor": 5
}
