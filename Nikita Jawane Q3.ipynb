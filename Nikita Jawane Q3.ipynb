{
 "cells": [
  {
   "cell_type": "code",
   "execution_count": 76,
   "id": "d5f3cb9c-b31e-460b-b675-1de60536f38e",
   "metadata": {},
   "outputs": [],
   "source": [
    "#Q3 Singular Value Decomposition \n",
    "import numpy as np\n",
    "import sympy as sp"
   ]
  },
  {
   "cell_type": "code",
   "execution_count": 77,
   "id": "98b31486-c9c1-4c47-80f7-9b465ddd458b",
   "metadata": {},
   "outputs": [
    {
     "data": {
      "text/plain": [
       "array([[1, 6, 6, 9, 0],\n",
       "       [6, 4, 7, 4, 7],\n",
       "       [1, 1, 9, 8, 2],\n",
       "       [3, 6, 6, 9, 9],\n",
       "       [1, 5, 1, 0, 5]])"
      ]
     },
     "execution_count": 77,
     "metadata": {},
     "output_type": "execute_result"
    }
   ],
   "source": [
    "np.random.seed(17)\n",
    "A=np.random.randint(0,10,(5,5))\n",
    "A"
   ]
  },
  {
   "cell_type": "code",
   "execution_count": 78,
   "id": "457443dc-eb0e-4a00-b7c6-c131ece5c192",
   "metadata": {},
   "outputs": [
    {
     "data": {
      "text/plain": [
       "array([[-0.43538398,  0.49632843, -0.58070328, -0.44660856, -0.16560004],\n",
       "       [-0.4721125 , -0.38812273,  0.51419293, -0.5454511 , -0.25408515],\n",
       "       [-0.43510099,  0.51476426,  0.46255004,  0.19367148,  0.54244235],\n",
       "       [-0.60244294, -0.26490568, -0.19859246,  0.66192893, -0.29882872],\n",
       "       [-0.18788347, -0.51755345, -0.38078581, -0.16542472,  0.7242065 ]])"
      ]
     },
     "execution_count": 78,
     "metadata": {},
     "output_type": "execute_result"
    }
   ],
   "source": [
    "U,s,VT= np.linalg.svd(A)\n",
    "U"
   ]
  },
  {
   "cell_type": "code",
   "execution_count": 79,
   "id": "7e9d5f37-2f48-4fad-8361-ce51aa0f1103",
   "metadata": {},
   "outputs": [
    {
     "data": {
      "text/plain": [
       "array([[25.21604797,  0.        ,  0.        ,  0.        ,  0.        ],\n",
       "       [ 0.        ,  9.2542578 ,  0.        ,  0.        ,  0.        ],\n",
       "       [ 0.        ,  0.        ,  5.48110925,  0.        ,  0.        ],\n",
       "       [ 0.        ,  0.        ,  0.        ,  3.27423941,  0.        ],\n",
       "       [ 0.        ,  0.        ,  0.        ,  0.        ,  1.93557094]])"
      ]
     },
     "execution_count": 79,
     "metadata": {},
     "output_type": "execute_result"
    }
   ],
   "source": [
    "S=np.zeros((A.shape[0], A.shape[1]))\n",
    "S[:A.shape[1],:A.shape[0]]=np.diag(s)\n",
    "S"
   ]
  },
  {
   "cell_type": "code",
   "execution_count": 80,
   "id": "7d30a546-053c-44a2-a9ea-19acc47d1ed8",
   "metadata": {},
   "outputs": [
    {
     "data": {
      "text/plain": [
       "array([[-0.22598197, -0.37634485, -0.54074855, -0.58334678, -0.41784475],\n",
       "       [-0.28418424, -0.24172197,  0.30115892,  0.50230153, -0.71958758],\n",
       "       [ 0.36314568, -0.74079562,  0.49364836, -0.22924002,  0.15201109],\n",
       "       [-0.52081762, -0.46524829, -0.28972128,  0.39870352,  0.51902804],\n",
       "       [-0.68194258,  0.18628182,  0.53783564, -0.44258809,  0.12289018]])"
      ]
     },
     "execution_count": 80,
     "metadata": {},
     "output_type": "execute_result"
    }
   ],
   "source": [
    "VT"
   ]
  },
  {
   "cell_type": "code",
   "execution_count": 81,
   "id": "b3f8fee0-2e87-4a48-9bfc-1e6e4fa54db2",
   "metadata": {},
   "outputs": [
    {
     "data": {
      "text/plain": [
       "array([[1., 6., 6., 9., 0.],\n",
       "       [6., 4., 7., 4., 7.],\n",
       "       [1., 1., 9., 8., 2.],\n",
       "       [3., 6., 6., 9., 9.],\n",
       "       [1., 5., 1., 0., 5.]])"
      ]
     },
     "execution_count": 81,
     "metadata": {},
     "output_type": "execute_result"
    }
   ],
   "source": [
    "M=U@S@VT\n",
    "np.round(M)"
   ]
  },
  {
   "cell_type": "code",
   "execution_count": 82,
   "id": "91c17456-84e6-4b66-bd69-f1ac9a8646a1",
   "metadata": {},
   "outputs": [
    {
     "data": {
      "text/plain": [
       "array([[ True,  True,  True,  True,  True],\n",
       "       [ True,  True,  True,  True,  True],\n",
       "       [ True,  True,  True,  True,  True],\n",
       "       [ True,  True,  True,  True,  True],\n",
       "       [ True,  True,  True,  True,  True]])"
      ]
     },
     "execution_count": 82,
     "metadata": {},
     "output_type": "execute_result"
    }
   ],
   "source": [
    "A==np.round(M)"
   ]
  },
  {
   "cell_type": "code",
   "execution_count": 83,
   "id": "4d251fdb-a9ba-4a8e-b451-80122e544971",
   "metadata": {},
   "outputs": [
    {
     "data": {
      "text/plain": [
       "array([[1., 3., 7., 9., 1.],\n",
       "       [4., 5., 5., 5., 8.],\n",
       "       [1., 3., 7., 9., 1.],\n",
       "       [4., 6., 7., 8., 8.],\n",
       "       [2., 3., 1., 0., 5.]])"
      ]
     },
     "execution_count": 83,
     "metadata": {},
     "output_type": "execute_result"
    }
   ],
   "source": [
    "# Rank 2 Approximation\n",
    "\n",
    "A2 = np.dot(U[:, :2], np.dot(np.diag(s[:2]), VT[:2, :]))\n",
    "np.round(A2)"
   ]
  },
  {
   "cell_type": "code",
   "execution_count": 84,
   "id": "e00e86d0-b202-47d8-94a5-9c288d03fbd4",
   "metadata": {},
   "outputs": [
    {
     "data": {
      "text/plain": [
       "array([[0., 5., 6., 9., 1.],\n",
       "       [5., 3., 7., 4., 8.],\n",
       "       [2., 1., 9., 8., 2.],\n",
       "       [4., 7., 7., 8., 8.],\n",
       "       [2., 4., 0., 1., 5.]])"
      ]
     },
     "execution_count": 84,
     "metadata": {},
     "output_type": "execute_result"
    }
   ],
   "source": [
    "# Rank 3 Approximation\n",
    "A3 = np.dot(U[:, :3], np.dot(np.diag(s[:3]), VT[:3, :]))\n",
    "np.round(A3)"
   ]
  },
  {
   "cell_type": "code",
   "execution_count": null,
   "id": "6b48bcb0-dc4d-4f63-933a-f56b0b543293",
   "metadata": {},
   "outputs": [],
   "source": []
  },
  {
   "cell_type": "code",
   "execution_count": null,
   "id": "882fe4af-0469-4282-8646-2b1a12378c93",
   "metadata": {},
   "outputs": [],
   "source": []
  }
 ],
 "metadata": {
  "kernelspec": {
   "display_name": "Python 3 (ipykernel)",
   "language": "python",
   "name": "python3"
  },
  "language_info": {
   "codemirror_mode": {
    "name": "ipython",
    "version": 3
   },
   "file_extension": ".py",
   "mimetype": "text/x-python",
   "name": "python",
   "nbconvert_exporter": "python",
   "pygments_lexer": "ipython3",
   "version": "3.11.7"
  }
 },
 "nbformat": 4,
 "nbformat_minor": 5
}
